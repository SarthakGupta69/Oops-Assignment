{
  "nbformat": 4,
  "nbformat_minor": 0,
  "metadata": {
    "colab": {
      "provenance": []
    },
    "kernelspec": {
      "name": "python3",
      "display_name": "Python 3"
    },
    "language_info": {
      "name": "python"
    }
  },
  "cells": [
    {
      "cell_type": "markdown",
      "source": [
        "##Python OOPs Questions"
      ],
      "metadata": {
        "id": "39E5fi7xgwg4"
      }
    },
    {
      "cell_type": "markdown",
      "source": [
        "Q1. What is Object-Oriented Programming (OOP)?\n",
        "- Answer  Object-Oriented Programming (OOP) is a programming paradigm that organizes software design around data, or objects, rather than functions and logic. In OOP, objects are instances of classes, which can be thought of as blueprints that define properties (attributes) and behaviors (methods) for objects.\n"
      ],
      "metadata": {
        "id": "HY7x4qotgyiD"
      }
    },
    {
      "cell_type": "markdown",
      "source": [
        "Q2. What is a class in OOP?\n",
        "- Answer In Object-Oriented Programming (OOP), a class is a blueprint or template for creating objects (instances). It defines the properties (attributes) and behaviors (methods) that the objects created from the class will have. Essentially, a class is a way to group related data and functions together.\n",
        "\n",
        "Key Points About a Class:\n",
        "Attributes (Fields/Properties): These are variables that store the state or data related to the object created from the class. For example, in a Car class, attributes might include color, make, model, and year.\n",
        "\n",
        "Methods (Functions): These are functions that define the behaviors or actions that an object created from the class can perform. For instance, a Car class might have methods like start(), stop(), and drive().\n",
        "\n",
        "Constructor: This is a special method used to initialize objects when they are created. In many programming languages, it’s called __init__() in Python, for example. It allows you to set initial values for an object’s attributes.\n",
        "\n",
        "Encapsulation: A class encapsulates its data and methods, meaning that its attributes are usually hidden from the outside world (using access control), and can only be accessed or modified through public methods. This helps to maintain the integrity of the data and prevent misuse.\n"
      ],
      "metadata": {
        "id": "VgETErj-hPr6"
      }
    },
    {
      "cell_type": "markdown",
      "source": [
        "Q. What is an object in OOP?\n",
        "- In Object-Oriented Programming (OOP), an object is an instance of a class. It represents a specific entity or thing that is created based on the blueprint (class) defined in the code. Objects have two main characteristics:\n",
        "\n",
        "State (Attributes/Properties): These are the data or values that represent the current condition of the object. For example, in a Car class, attributes could include color, make, model, and year.\n",
        "\n",
        "Behavior (Methods/Functions): These are the actions or operations that an object can perform, which are defined by the methods within the class. For example, a Car object might have methods like start(), drive(), and stop().\n"
      ],
      "metadata": {
        "id": "cxUvTUnEhqli"
      }
    },
    {
      "cell_type": "markdown",
      "source": [
        "Q- What is the difference between abstraction and encapsulation+\n",
        "- 1. Abstraction\n",
        "Definition: Abstraction is the concept of hiding the complex implementation details and showing only the essential features of an object or system. It simplifies the interaction with objects by exposing only the necessary functionality and hiding the unnecessary details.\n",
        "Purpose: To simplify the interface and reduce complexity by focusing on high-level behavior.\n",
        "How: Abstraction is achieved by creating abstract classes or interfaces that define what an object should do, without specifying how it does it.\n",
        "Example: A Car class might have a method start(). The abstraction hides how the car starts (the detailed process of turning on the ignition, etc.) and just exposes the behavior of starting the car.\n",
        "Real-life analogy: A TV remote control. The abstraction hides the internal mechanisms of the TV and the remote, allowing you to focus on high-level actions like turning the TV on or changing the channel without needing to understand how the electronics work inside.\n",
        "\n",
        "- 2. Encapsulation\n",
        "Definition: Encapsulation is the concept of bundling the data (attributes) and methods (functions) that operate on the data within a single unit (class). It also involves restricting direct access to some of the object's data and providing controlled access through methods.\n",
        "Purpose: To protect the object's internal state by restricting direct access to it and controlling how it's modified, ensuring that the data is accessed and modified only through well-defined interfaces.\n",
        "How: Encapsulation is achieved using access modifiers (like private, protected, and public) and providing getter and setter methods to access and modify data.\n",
        "Example: A BankAccount class may have an attribute balance that should not be directly changed. Instead, methods like deposit() and withdraw() are used to safely modify the balance, ensuring no invalid operations like withdrawing more money than the available balance.\n",
        "Real-life analogy: A bottle with a lid. The lid controls access to the liquid inside, so you can only pour out liquid in a controlled way (e.g., by opening the lid), and not directly interact with the liquid inside."
      ],
      "metadata": {
        "id": "DN_ZwSAlh5sC"
      }
    },
    {
      "cell_type": "markdown",
      "source": [
        "Q. What are dunder methods in Python?\n",
        "- In Python, dunder methods (short for \"double underscore\" methods) are special methods that are used to customize the behavior of objects and classes. These methods are surrounded by double underscores (__method_name__), and they allow objects to interact with built-in Python operations, such as addition, string representation, comparisons, and more.\n",
        "\n",
        "Dunder methods enable you to define how your objects behave when they are used in specific contexts or with certain operators. For example, you can define how an object should behave when it is printed, added to another object, or compared with another object.\n",
        "Common Dunder Methods and Their Purpose\n",
        "__init__(self, ...)\n",
        "\n",
        "Purpose: The constructor method is called when a new instance of the class is created. It is used to initialize the object's attributes.\n",
        "__str__(self)\n",
        "\n",
        "Purpose: This method defines how an object is represented as a string when you use print() or str().\n",
        "__repr__(self)\n",
        "\n",
        "Purpose: Similar to __str__(), but it is used for the official string representation of an object. It should return a string that can ideally be used to recreate the object (more useful for debugging)."
      ],
      "metadata": {
        "id": "JylwCU5aiNjY"
      }
    },
    {
      "cell_type": "markdown",
      "source": [
        "Q-  Explain the concept of inheritance in OOP?\n",
        "- Answer In Object-Oriented Programming (OOP), inheritance is a mechanism that allows one class (called a subclass or derived class) to inherit the attributes and methods from another class (called a superclass or base class). This promotes code reuse and establishes a hierarchical relationship between classes.\n",
        "\n",
        "Key Concepts of Inheritance:\n",
        "Base Class (Superclass): The class whose properties and methods are inherited by other classes.\n",
        "Derived Class (Subclass): The class that inherits properties and methods from the base class and can also add or override behavior.\n",
        "Method Overriding: A subclass can provide its own specific implementation of a method that is already defined in the base class.\n",
        "Code Reusability: Inheritance allows the subclass to reuse the code of the base class without having to rewrite it.\n",
        "Extensibility: Subclasses can extend the functionality of a base class by adding new methods or modifying existing ones.\n"
      ],
      "metadata": {
        "id": "Aqp9YXKwioAO"
      }
    },
    {
      "cell_type": "markdown",
      "source": [
        "Q. What is polymorphism in OOP?\n",
        "- Answer Polymorphism is one of the core concepts in Object-Oriented Programming (OOP). It allows objects of different classes to be treated as objects of a common base class. The term \"polymorphism\" comes from Greek, meaning \"many shapes.\" In the context of OOP, it refers to the ability of different classes to provide different implementations of the same method or operation, making it possible for one interface to be used for a general class of actions.\n",
        "\n",
        "Polymorphism can be achieved through:\n",
        "\n",
        "Method Overloading (compile-time polymorphism)\n",
        "Method Overriding (runtime polymorphism)"
      ],
      "metadata": {
        "id": "OVp9OgGli2Zh"
      }
    },
    {
      "cell_type": "markdown",
      "source": [
        "Q. How is encapsulation achieved in Python\n",
        "- Answer - Encapsulation is one of the core principles of Object-Oriented Programming (OOP) that involves bundling data (attributes) and methods (functions) that operate on the data into a single unit called a class. It also restricts direct access to some of the object's components, which helps in protecting the data from unwanted modifications and ensuring controlled access through methods (getters and setters).\n",
        "\n",
        "In Python, encapsulation is typically achieved by using access modifiers to control the visibility and access to attributes and methods. While Python does not have strict access modifiers like private or protected (as in languages like Java or C++), it follows a naming convention to achieve encapsulation."
      ],
      "metadata": {
        "id": "9xgRhlivjCDX"
      }
    },
    {
      "cell_type": "markdown",
      "source": [
        "Q.  What is a constructor in Python?\n",
        "- Answer In Python, a constructor is a special method that is automatically called when an object of a class is created. The constructor is used to initialize the object's state (i.e., assign values to the object's attributes) when the object is instantiated.\n",
        "\n",
        "In Python, the constructor is defined using the __init__ method. This method is called when you create an instance of the class and is typically used to initialize instance variables (attributes)."
      ],
      "metadata": {
        "id": "YfgZeT2mjLAF"
      }
    },
    {
      "cell_type": "markdown",
      "source": [
        "Q. What are class and static methods in Python?\n",
        "- Answer In Python, class methods and static methods are two types of methods that differ in their behavior and how they interact with class attributes or instance attributes. Both are defined using specific decorators, and they serve different purposes in object-oriented programming.\n",
        "\n",
        "1. Class Methods:\n",
        "A class method is a method that is bound to the class, rather than the instance of the class. It takes a class as its first argument, conventionally named cls, and can access or modify the class state (attributes that belong to the class, not the instance).\n",
        "\n",
        "Class methods are defined using the @classmethod decorator.\n",
        "2. Static Methods:\n",
        "A static method is a method that does not take a reference to the instance (self) or the class (cls). It behaves like a regular function, but it belongs to the class's namespace. Static methods can be used for utility functions that do not modify the class or instance state.\n",
        "\n",
        "Static methods are defined using the @staticmethod decorator."
      ],
      "metadata": {
        "id": "UlNDbOSzjUv4"
      }
    },
    {
      "cell_type": "markdown",
      "source": [
        "Q. What is method overloading in Python?\n",
        "- Answer Method overloading is a concept where multiple methods with the same name are defined within a class, but with different parameter lists (number or type of parameters). The appropriate method is called based on the number or type of arguments passed during the method call.\n",
        "\n",
        "In languages like Java or C++, method overloading is explicitly supported by allowing multiple methods with the same name but different signatures. However, Python does not natively support method overloading in the same way. In Python, if you define multiple methods with the same name, the last one will override the previous ones.\n",
        "\n",
        "That said, you can simulate method overloading in Python in a few ways, such as by using default arguments, variable-length arguments, or conditional logic within a single method to handle different use cases."
      ],
      "metadata": {
        "id": "yEVzwwxhjkoj"
      }
    },
    {
      "cell_type": "markdown",
      "source": [
        "Q. What is method overriding in OOP?\n",
        "- Answer Method overriding is a concept in Object-Oriented Programming (OOP) where a subclass provides its own implementation of a method that is already defined in its parent class. The method in the subclass overrides the method in the parent class, meaning that when the method is called on an instance of the subclass, the subclass's version of the method is executed, not the parent class's version."
      ],
      "metadata": {
        "id": "vP5enXsHjwwT"
      }
    },
    {
      "cell_type": "markdown",
      "source": [
        "Q. What is a property decorator in Python?\n",
        "- Answer In Python, the property decorator is used to define methods that act like attributes. It allows you to create a getter, setter, or deleter for a class attribute without directly accessing or modifying the attribute. This provides a way to control how an attribute is accessed and modified, making it easier to encapsulate logic for attribute access.\n",
        "\n"
      ],
      "metadata": {
        "id": "cewsXI4Ij9G-"
      }
    },
    {
      "cell_type": "markdown",
      "source": [
        "Q. Why is polymorphism important in OOP?\n",
        "- Polymorphism is a core concept in Object-Oriented Programming (OOP) and plays a vital role in making code more flexible, extensible, and maintainable. It refers to the ability of different classes to provide a unique implementation of the same method, allowing objects of different types to be treated in a uniform way."
      ],
      "metadata": {
        "id": "yuFkUWUokH7O"
      }
    },
    {
      "cell_type": "markdown",
      "source": [
        "Q.What is an abstract class in Python?\n",
        "- An abstract class in Python is a class that cannot be instantiated directly and is meant to be subclassed by other classes. It serves as a blueprint for other classes, providing a common interface and enforcing certain methods that must be implemented by any subclass. Abstract classes are typically used when you have a common interface or functionality across multiple subclasses but want to leave certain methods to be implemented specifically by those subclasses.\n",
        "\n",
        "In Python, abstract classes are defined using the abc (Abstract Base Class) module, which provides the necessary tools for defining abstract classes and methods"
      ],
      "metadata": {
        "id": "aitoREUikSeH"
      }
    },
    {
      "cell_type": "markdown",
      "source": [
        "Q. What are the advantages of OOP?\n",
        "- An abstract class in Python is a class that cannot be instantiated directly and is meant to be subclassed by other classes. It serves as a blueprint for other classes, providing a common interface and enforcing certain methods that must be implemented by any subclass. Abstract classes are typically used when you have a common interface or functionality across multiple subclasses but want to leave certain methods to be implemented specifically by those subclasses.\n",
        "\n",
        "In Python, abstract classes are defined using the abc (Abstract Base Class) module, which provides the necessary tools for defining abstract classes and methods"
      ],
      "metadata": {
        "id": "ge5krc75k2r-"
      }
    },
    {
      "cell_type": "markdown",
      "source": [
        "Q. What is the difference between a class variable and an instance variable?\n",
        "- In Python, class variables and instance variables are both used to store data related to objects, but they behave differently and are used in different contexts.\n",
        "\n",
        "1. Class Variables:\n",
        "Definition: A class variable is a variable that is shared by all instances of a class. It is defined inside the class but outside any method, usually within the class body.\n",
        "Scope: Class variables are accessible by all instances of the class as well as the class itself.\n",
        "Modification: If the class variable is modified using an instance, the change is reflected in all instances, but if it is modified using the class name, the change affects all instances as well.\n",
        "2. Instance Variables:\n",
        "Definition: An instance variable is a variable that is tied to a specific instance of the class. It is typically defined within the __init__ method (the constructor) using the self keyword, meaning each instance of the class will have its own copy of the variable.\n",
        "Scope: Instance variables are specific to the instance they belong to, and each object gets its own separate copy of the instance variables.\n",
        "Modification: Modifying an instance variable affects only that specific instance.\n"
      ],
      "metadata": {
        "id": "ZbPL_YUYk74t"
      }
    },
    {
      "cell_type": "markdown",
      "source": [
        "Q. What is multiple inheritance in Python?\n",
        "- Multiple inheritance in Python is a feature that allows a class to inherit attributes and methods from more than one parent class. This means a child class can derive behavior and properties from multiple parent classes, enabling the reuse of code from various sources and allowing more flexible and complex class structures."
      ],
      "metadata": {
        "id": "_hpbKiXdlL6w"
      }
    },
    {
      "cell_type": "markdown",
      "source": [
        "Q.  Explain the purpose of ‘’__str__’ and ‘__repr__’ ‘ methods in Python?\n",
        "- In Python, the __str__ and __repr__ methods are special (or \"dunder\") methods that define how objects of a class are represented as strings. Both of these methods serve distinct purposes, but they are often confused because they both deal with string representations of an object.\n",
        "\n",
        "1. __str__ Method\n",
        "The __str__ method is used to define the informal or user-friendly string representation of an object. It is meant to be a readable, easy-to-understand string that can be displayed to the end user. When you call str() on an object or use print() to display an object, the __str__ method is invoked to return a string.\n",
        "\n",
        "Purpose:\n",
        "__str__ is intended for creating a string representation of the object that is easy to read and understand for humans. It is typically used when you want to display information about the object in a user-friendly format.\n",
        "2. __repr__ Method\n",
        "The __repr__ method is used to define the formal string representation of an object. Its main goal is to provide a string that could, in theory, be used to recreate the object when passed to eval() (or, at the very least, give enough information for debugging). It is generally intended for developers and debugging purposes, as it provides a detailed string representation of the object.\n",
        "\n",
        "Purpose:\n",
        "__repr__ is intended for the development or debugging process, and it should ideally return a string that, if passed to eval(), would recreate the object (though this is not always possible).\n",
        "If __str__ is not defined in a class, Python will use __repr__ as a fallback when calling str() or using print()."
      ],
      "metadata": {
        "id": "KkUAPGexlgr-"
      }
    },
    {
      "cell_type": "markdown",
      "source": [
        "Q. What is the significance of the ‘super()’ function in Python?\n",
        "- Answer The super() function in Python is a built-in function that is used to call methods from a parent (or superclass) in a child (or subclass) class. It is primarily used to ensure that the parent class's methods are properly called, which is especially useful in the context of inheritance.\n",
        "\n",
        "Significance of super():\n",
        "Calling Parent Class Methods: The main purpose of super() is to allow a method in a subclass to call the corresponding method in the parent class. This is particularly important in the context of inheritance, as it allows subclasses to extend or modify the behavior of the parent class.\n",
        "\n",
        "Facilitates Method Resolution Order (MRO): In a class hierarchy, especially when dealing with multiple inheritance, super() helps Python determine the correct order in which methods should be called. Python uses the Method Resolution Order (MRO) to decide which method to call from the class hierarchy. super() ensures that methods are called according to the MRO.\n",
        "\n",
        "Avoids Hardcoding Parent Class Names: By using super(), you can avoid directly referencing the parent class by name, which makes the code more maintainable and less coupled. This is particularly useful when dealing with multiple inheritance, as super() will automatically look up the MRO.\n",
        "\n",
        "Helps in Initialization: In many cases, super() is used to call the __init__() method of the parent class to ensure that the parent class is properly initialized, especially when the child class wants to extend the functionality of the parent class.\n"
      ],
      "metadata": {
        "id": "Tn7ctrFqmE4d"
      }
    },
    {
      "cell_type": "markdown",
      "source": [
        "Q. What is the significance of the __del__ method in Python?\n",
        "- Answer The __del__ method in Python is a special method, also known as a destructor, that is automatically called when an object is about to be destroyed or garbage collected. It allows you to define clean-up actions that should be performed before the object is removed from memory, such as closing files, releasing resources, or network connections.\n",
        "\n",
        "Significance of the __del__ Method:\n",
        "Object Cleanup: The __del__ method is commonly used to release resources or perform any necessary cleanup when an object is no longer needed, ensuring that resources like file handles, database connections, or network connections are properly closed or released.\n",
        "\n",
        "Automatic Resource Management: While Python uses automatic memory management and garbage collection, there might be cases where objects are managing external resources that need to be explicitly freed. The __del__ method provides a way to ensure those resources are properly cleaned up before the object is destroyed.\n",
        "\n",
        "Custom Cleanup: You can override the __del__ method in your class to implement custom cleanup logic, which might involve freeing up non-memory resources that Python's garbage collector does not automatically handle."
      ],
      "metadata": {
        "id": "8Hl2o2symg-u"
      }
    },
    {
      "cell_type": "markdown",
      "source": [
        "Q.  What is the difference between @staticmethod and @classmethod in Python?\n",
        "- Answer In Python, both @staticmethod and @classmethod are used to define methods that are not bound to an instance of the class, but there are key differences in how they behave and how they are used.\n",
        "\n",
        "Key Differences Between @staticmethod and @classmethod:\n",
        "Binding to the Class or Instance:\n",
        "\n",
        "@staticmethod: A static method does not take any implicit first argument (like self or cls). It is completely independent of both the class and the instance. Static methods are used to define functions that belong to a class but don't need access to any instance or class-specific data.\n",
        "@classmethod: A class method, on the other hand, takes cls as its first argument, which refers to the class itself, not an instance. It can access and modify class-level attributes and methods, but it cannot access instance-level attributes (those defined by self).\n",
        "Usage:\n",
        "\n",
        "@staticmethod: Static methods are used for utility functions that are related to the class but don’t need to interact with class or instance data.\n",
        "@classmethod: Class methods are used when you need to interact with the class itself (such as modifying class variables or calling other class methods) but don't need access to instance-specific data.\n",
        "Calling Method:\n",
        "\n",
        "@staticmethod: Static methods can be called on the class or on an instance of the class, and they don’t require an instance or class to be passed to them.\n",
        "@classmethod: Class methods must be called on the class or on an instance, but they always take the class (cls) as the first argument, regardless of how they are called.\n"
      ],
      "metadata": {
        "id": "AmOf5Q6SmvB6"
      }
    },
    {
      "cell_type": "markdown",
      "source": [
        "Q. How does polymorphism work in Python with inheritance?\n",
        "- Polymorphism in Python with Inheritance:\n",
        "Polymorphism is one of the four fundamental principles of Object-Oriented Programming (OOP). In Python, polymorphism allows objects of different classes to be treated as objects of a common superclass. It provides the ability to call the same method on different objects, and each object responds in a way specific to its class type.\n",
        "\n",
        "With inheritance, polymorphism works by allowing child classes to override methods from the parent class. The method that gets executed depends on the type of the object that is calling it, not the type of reference used to call the method. This is known as method overriding."
      ],
      "metadata": {
        "id": "UmPTCIv0nPVG"
      }
    },
    {
      "cell_type": "markdown",
      "source": [
        "Q.  What is method chaining in Python OOP?\n",
        "- Method Chaining in Python OOP:\n",
        "Method chaining is a programming technique in object-oriented programming (OOP) where multiple method calls are made on the same object in a single line of code. This technique allows for a more concise and readable code by calling multiple methods consecutively on the same object, without needing to repeat the object reference.\n",
        "\n",
        "In Python, method chaining is possible when methods return the object itself (or a reference to the same object), which allows subsequent methods to be called on that object."
      ],
      "metadata": {
        "id": "VwXrzvzdnfLP"
      }
    },
    {
      "cell_type": "markdown",
      "source": [
        "Q. What is the purpose of the __call__ method in Python?\n",
        "- The __call__ method in Python is a special method (also known as a dunder method, short for \"double underscore\") that allows an instance of a class to be called as if it were a function.\n",
        "\n",
        "Purpose of __call__:\n",
        "The __call__ method makes an object callable, meaning you can use the object like a function. When you call an instance of a class, the __call__ method is executed, and it allows the object to behave like a function or a callable object.\n",
        "\n",
        "This is useful when you want to implement an object that can perform some action when \"called,\" or when you want to wrap behavior in an object while maintaining a function-like interface."
      ],
      "metadata": {
        "id": "gPZ8Fhm6nuNJ"
      }
    },
    {
      "cell_type": "markdown",
      "source": [
        "## Practical Questions"
      ],
      "metadata": {
        "id": "voyqbF_Jn61u"
      }
    },
    {
      "cell_type": "markdown",
      "source": [
        "Q.  Create a parent class Animal with a method speak() that prints a generic message. Create a child class Dog\n",
        "that overrides the speak() method to print \"Bark!\"\n"
      ],
      "metadata": {
        "id": "dT4cGihhoAwq"
      }
    },
    {
      "cell_type": "code",
      "source": [
        "# Parent class\n",
        "class Animal:\n",
        "    def speak(self):\n",
        "        print(\"This is a generic animal sound\")\n",
        "\n",
        "# Child class\n",
        "class Dog(Animal):\n",
        "    def speak(self):\n",
        "        print(\"Bark!\")\n",
        "\n",
        "# Creating an instance of Dog\n",
        "dog = Dog()\n",
        "\n",
        "# Calling the speak method from Dog\n",
        "dog.speak()  # Output: Bark!\n"
      ],
      "metadata": {
        "colab": {
          "base_uri": "https://localhost:8080/"
        },
        "id": "rC3qbKawoUXO",
        "outputId": "9269cd71-2540-45f1-fed4-5dcb250d8df1"
      },
      "execution_count": 1,
      "outputs": [
        {
          "output_type": "stream",
          "name": "stdout",
          "text": [
            "Bark!\n"
          ]
        }
      ]
    },
    {
      "cell_type": "markdown",
      "source": [
        "Q. Write a program to create an abstract class Shape with a method area(). Derive classes Circle and Rectangle\n",
        "from it and implement the area() method in both."
      ],
      "metadata": {
        "id": "uGbImxNGoccX"
      }
    },
    {
      "cell_type": "code",
      "source": [
        "from abc import ABC, abstractmethod\n",
        "import math\n",
        "\n",
        "# Abstract class\n",
        "class Shape(ABC):\n",
        "    @abstractmethod\n",
        "    def area(self):\n",
        "        pass  # Abstract method that must be implemented by subclasses\n",
        "\n",
        "# Derived class Circle\n",
        "class Circle(Shape):\n",
        "    def __init__(self, radius):\n",
        "        self.radius = radius\n",
        "\n",
        "    def area(self):\n",
        "        return math.pi * self.radius ** 2  # Area of the circle: π * r^2\n",
        "\n",
        "# Derived class Rectangle\n",
        "class Rectangle(Shape):\n",
        "    def __init__(self, length, width):\n",
        "        self.length = length\n",
        "        self.width = width\n",
        "\n",
        "    def area(self):\n",
        "        return self.length * self.width  # Area of the rectangle: length * width\n",
        "\n",
        "# Create objects for Circle and Rectangle\n",
        "circle = Circle(5)\n",
        "rectangle = Rectangle(4, 6)\n",
        "\n",
        "# Print the areas\n",
        "print(f\"Area of the Circle: {circle.area()}\")  # Output: Area of the Circle: 78.53981633974483\n",
        "print(f\"Area of the Rectangle: {rectangle.area()}\")  # Output: Area of the Rectangle: 24\n"
      ],
      "metadata": {
        "colab": {
          "base_uri": "https://localhost:8080/"
        },
        "id": "orwHohsPohbK",
        "outputId": "2a6f57e8-6418-4266-c50d-7adc6c65ad1c"
      },
      "execution_count": 2,
      "outputs": [
        {
          "output_type": "stream",
          "name": "stdout",
          "text": [
            "Area of the Circle: 78.53981633974483\n",
            "Area of the Rectangle: 24\n"
          ]
        }
      ]
    },
    {
      "cell_type": "markdown",
      "source": [
        "Q.  Implement a multi-level inheritance scenario where a class Vehicle has an attribute type. Derive a class Car\n",
        "and further derive a class ElectricCar that adds a battery attribute."
      ],
      "metadata": {
        "id": "cKu0rByroriB"
      }
    },
    {
      "cell_type": "code",
      "source": [
        "# Parent class Vehicle\n",
        "class Vehicle:\n",
        "    def __init__(self, type):\n",
        "        self.type = type  # The type of the vehicle (e.g., \"Sedan\", \"Truck\", etc.)\n",
        "\n",
        "    def display_type(self):\n",
        "        print(f\"Vehicle Type: {self.type}\")\n",
        "\n",
        "# Derived class Car\n",
        "class Car(Vehicle):\n",
        "    def __init__(self, type, model):\n",
        "        # Call the constructor of the parent class (Vehicle)\n",
        "        super().__init__(type)\n",
        "        self.model = model  # Model of the car (e.g., \"Tesla\", \"BMW\", etc.)\n",
        "\n",
        "    def display_model(self):\n",
        "        print(f\"Car Model: {self.model}\")\n",
        "\n",
        "# Derived class ElectricCar\n",
        "class ElectricCar(Car):\n",
        "    def __init__(self, type, model, battery_capacity):\n",
        "        # Call the constructor of the parent class (Car)\n",
        "        super().__init__(type, model)\n",
        "        self.battery_capacity = battery_capacity  # Battery capacity in kWh\n",
        "\n",
        "    def display_battery(self):\n",
        "        print(f\"Battery Capacity: {self.battery_capacity} kWh\")\n",
        "\n",
        "# Create an object of ElectricCar\n",
        "electric_car = ElectricCar(\"Electric\", \"Tesla Model S\", 100)\n",
        "\n",
        "# Display details\n",
        "electric_car.display_type()       # Output: Vehicle Type: Electric\n",
        "electric_car.display_model()      # Output: Car Model: Tesla Model S\n",
        "electric_car.display_battery()    # Output: Battery Capacity: 100 kWh\n"
      ],
      "metadata": {
        "colab": {
          "base_uri": "https://localhost:8080/"
        },
        "id": "isogGoXVozMn",
        "outputId": "3ea5cee5-198b-422d-aa39-c8ee943029fa"
      },
      "execution_count": 3,
      "outputs": [
        {
          "output_type": "stream",
          "name": "stdout",
          "text": [
            "Vehicle Type: Electric\n",
            "Car Model: Tesla Model S\n",
            "Battery Capacity: 100 kWh\n"
          ]
        }
      ]
    },
    {
      "cell_type": "markdown",
      "source": [
        "Q. Demonstrate polymorphism by creating a base class Bird with a method fly(). Create two derived classes\n",
        "Sparrow and Penguin that override the fly() method"
      ],
      "metadata": {
        "id": "7q8To0Ldo7RA"
      }
    },
    {
      "cell_type": "code",
      "source": [
        "# Base class Bird\n",
        "class Bird:\n",
        "    def fly(self):\n",
        "        print(\"This bird can fly.\")\n",
        "\n",
        "# Derived class Sparrow\n",
        "class Sparrow(Bird):\n",
        "    def fly(self):\n",
        "        print(\"The sparrow flies high in the sky.\")\n",
        "\n",
        "# Derived class Penguin\n",
        "class Penguin(Bird):\n",
        "    def fly(self):\n",
        "        print(\"The penguin cannot fly, it swims instead.\")\n",
        "\n",
        "# Create objects of Sparrow and Penguin\n",
        "sparrow = Sparrow()\n",
        "penguin = Penguin()\n",
        "\n",
        "# Demonstrate polymorphism\n",
        "def make_bird_fly(bird):\n",
        "    bird.fly()  # This will call the appropriate fly() method based on the object's class\n",
        "\n",
        "make_bird_fly(sparrow)  # Output: The sparrow flies high in the sky.\n",
        "make_bird_fly(penguin)  # Output: The penguin cannot fly, it swims instead.\n"
      ],
      "metadata": {
        "colab": {
          "base_uri": "https://localhost:8080/"
        },
        "id": "Rpk28-MMo_kR",
        "outputId": "38bc4ef4-1138-45e2-a928-b408c31e8c73"
      },
      "execution_count": 4,
      "outputs": [
        {
          "output_type": "stream",
          "name": "stdout",
          "text": [
            "The sparrow flies high in the sky.\n",
            "The penguin cannot fly, it swims instead.\n"
          ]
        }
      ]
    },
    {
      "cell_type": "markdown",
      "source": [
        "Q. Write a program to demonstrate encapsulation by creating a class BankAccount with private attributes\n",
        "balance and methods to deposit, withdraw, and check balance"
      ],
      "metadata": {
        "id": "Oqzrsqr1pRbC"
      }
    },
    {
      "cell_type": "code",
      "source": [
        "class BankAccount:\n",
        "    def __init__(self, initial_balance=0):\n",
        "        # Private attribute\n",
        "        self.__balance = initial_balance\n",
        "\n",
        "    # Method to deposit money\n",
        "    def deposit(self, amount):\n",
        "        if amount > 0:\n",
        "            self.__balance += amount\n",
        "            print(f\"Deposited: ${amount}\")\n",
        "        else:\n",
        "            print(\"Deposit amount must be positive.\")\n",
        "\n",
        "    # Method to withdraw money\n",
        "    def withdraw(self, amount):\n",
        "        if amount > 0 and amount <= self.__balance:\n",
        "            self.__balance -= amount\n",
        "            print(f\"Withdrew: ${amount}\")\n",
        "        elif amount > self.__balance:\n",
        "            print(\"Insufficient funds.\")\n",
        "        else:\n",
        "            print(\"Withdrawal amount must be positive.\")\n",
        "\n",
        "    # Method to check the current balance\n",
        "    def check_balance(self):\n",
        "        return self.__balance\n",
        "\n",
        "# Create a BankAccount object\n",
        "account = BankAccount(1000)\n",
        "\n",
        "# Deposit money\n",
        "account.deposit(500)\n",
        "\n",
        "# Withdraw money\n",
        "account.withdraw(200)\n",
        "\n",
        "# Try withdrawing more than available balance\n",
        "account.withdraw(1500)\n",
        "\n",
        "# Check balance\n",
        "print(f\"Current Balance: ${account.check_balance()}\")\n"
      ],
      "metadata": {
        "colab": {
          "base_uri": "https://localhost:8080/"
        },
        "id": "-Sl910vtpVjd",
        "outputId": "c74b8a5a-4b12-4d35-cc82-bc84eafd3ba3"
      },
      "execution_count": 5,
      "outputs": [
        {
          "output_type": "stream",
          "name": "stdout",
          "text": [
            "Deposited: $500\n",
            "Withdrew: $200\n",
            "Insufficient funds.\n",
            "Current Balance: $1300\n"
          ]
        }
      ]
    },
    {
      "cell_type": "markdown",
      "source": [
        "Q.  Demonstrate runtime polymorphism using a method play() in a base class Instrument. Derive classes Guitar\n",
        "and Piano that implement their own version of play()"
      ],
      "metadata": {
        "id": "fQzuJM--piu6"
      }
    },
    {
      "cell_type": "code",
      "source": [
        "# Base class Instrument\n",
        "class Instrument:\n",
        "    def play(self):\n",
        "        print(\"Playing a generic instrument\")\n",
        "\n",
        "# Derived class Guitar\n",
        "class Guitar(Instrument):\n",
        "    def play(self):\n",
        "        print(\"Playing the guitar: Strum strum!\")\n",
        "\n",
        "# Derived class Piano\n",
        "class Piano(Instrument):\n",
        "    def play(self):\n",
        "        print(\"Playing the piano: Ding ding!\")\n",
        "\n",
        "# Demonstrating runtime polymorphism\n",
        "def demonstrate_play(instrument):\n",
        "    instrument.play()  # The correct play method is called based on the object's class\n",
        "\n",
        "# Creating objects of Guitar and Piano\n",
        "guitar = Guitar()\n",
        "piano = Piano()\n",
        "\n",
        "# Calling the demonstrate_play function with different instrument objects\n",
        "demonstrate_play(guitar)  # Output: Playing the guitar: Strum strum!\n",
        "demonstrate_play(piano)   # Output: Playing the piano: Ding ding!\n"
      ],
      "metadata": {
        "colab": {
          "base_uri": "https://localhost:8080/"
        },
        "id": "6-1lO9dRpt0i",
        "outputId": "4f0a505f-1136-4489-af1f-118be6a56e4b"
      },
      "execution_count": 6,
      "outputs": [
        {
          "output_type": "stream",
          "name": "stdout",
          "text": [
            "Playing the guitar: Strum strum!\n",
            "Playing the piano: Ding ding!\n"
          ]
        }
      ]
    },
    {
      "cell_type": "markdown",
      "source": [
        "Q. Create a class MathOperations with a class method add_numbers() to add two numbers and a static\n",
        "method subtract_numbers() to subtract two numbers."
      ],
      "metadata": {
        "id": "61JGVvGvpvqv"
      }
    },
    {
      "cell_type": "code",
      "source": [
        "class MathOperations:\n",
        "    # Class method to add two numbers\n",
        "    @classmethod\n",
        "    def add_numbers(cls, num1, num2):\n",
        "        return num1 + num2\n",
        "\n",
        "    # Static method to subtract two numbers\n",
        "    @staticmethod\n",
        "    def subtract_numbers(num1, num2):\n",
        "        return num1 - num2\n",
        "\n",
        "# Calling the class method directly on the class\n",
        "sum_result = MathOperations.add_numbers(5, 3)\n",
        "print(f\"Sum: {sum_result}\")  # Output: Sum: 8\n",
        "\n",
        "# Calling the static method directly on the class\n",
        "difference_result = MathOperations.subtract_numbers(5, 3)\n",
        "print(f\"Difference: {difference_result}\")  # Output: Difference: 2\n"
      ],
      "metadata": {
        "colab": {
          "base_uri": "https://localhost:8080/"
        },
        "id": "ncajzSJZp9bX",
        "outputId": "978798ee-c6e4-4972-dd5f-a7f51808448d"
      },
      "execution_count": 7,
      "outputs": [
        {
          "output_type": "stream",
          "name": "stdout",
          "text": [
            "Sum: 8\n",
            "Difference: 2\n"
          ]
        }
      ]
    },
    {
      "cell_type": "markdown",
      "source": [
        "Q.  Implement a class Person with a class method to count the total number of persons created."
      ],
      "metadata": {
        "id": "UniViUF9p_Pw"
      }
    },
    {
      "cell_type": "code",
      "source": [
        "class Person:\n",
        "    # Class-level attribute to keep track of the number of Person objects\n",
        "    total_count = 0\n",
        "\n",
        "    def __init__(self, name, age):\n",
        "        self.name = name\n",
        "        self.age = age\n",
        "        # Increment the total_count each time a new object is created\n",
        "        Person.total_count += 1\n",
        "\n",
        "    # Class method to get the total number of Person objects created\n",
        "    @classmethod\n",
        "    def get_total_persons(cls):\n",
        "        return cls.total_count\n",
        "\n",
        "# Create instances of Person\n",
        "person1 = Person(\"Alice\", 30)\n",
        "person2 = Person(\"Bob\", 25)\n",
        "person3 = Person(\"Charlie\", 35)\n",
        "\n",
        "# Get the total number of Person objects created\n",
        "print(f\"Total persons created: {Person.get_total_persons()}\")  # Output: Total persons created: 3\n"
      ],
      "metadata": {
        "colab": {
          "base_uri": "https://localhost:8080/"
        },
        "id": "QtSm8WW2qGX9",
        "outputId": "0ddc181f-78ea-41e0-9684-dbb6dfa9654f"
      },
      "execution_count": 8,
      "outputs": [
        {
          "output_type": "stream",
          "name": "stdout",
          "text": [
            "Total persons created: 3\n"
          ]
        }
      ]
    },
    {
      "cell_type": "markdown",
      "source": [
        "Q. Write a class Fraction with attributes numerator and denominator. Override the str method to display the\n",
        "fraction as \"numerator/denominator"
      ],
      "metadata": {
        "id": "stz8LKTiqKtT"
      }
    },
    {
      "cell_type": "code",
      "source": [
        "class Fraction:\n",
        "    def __init__(self, numerator, denominator):\n",
        "        if denominator == 0:\n",
        "            raise ValueError(\"Denominator cannot be zero.\")\n",
        "        self.numerator = numerator\n",
        "        self.denominator = denominator\n",
        "\n",
        "    # Override the __str__ method to display the fraction as \"numerator/denominator\"\n",
        "    def __str__(self):\n",
        "        return f\"{self.numerator}/{self.denominator}\"\n",
        "\n",
        "# Create instances of Fraction\n",
        "fraction1 = Fraction(3, 4)\n",
        "fraction2 = Fraction(5, 2)\n",
        "\n",
        "# Display the fractions using the __str__ method\n",
        "print(f\"Fraction 1: {fraction1}\")  # Output: Fraction 1: 3/4\n",
        "print(f\"Fraction 2: {fraction2}\")  # Output: Fraction 2: 5/2\n"
      ],
      "metadata": {
        "colab": {
          "base_uri": "https://localhost:8080/"
        },
        "id": "rXEUmw5cqNln",
        "outputId": "bc233536-da19-49a0-f69a-4d80385979cc"
      },
      "execution_count": 9,
      "outputs": [
        {
          "output_type": "stream",
          "name": "stdout",
          "text": [
            "Fraction 1: 3/4\n",
            "Fraction 2: 5/2\n"
          ]
        }
      ]
    },
    {
      "cell_type": "markdown",
      "source": [
        "Q.  Demonstrate operator overloading by creating a class Vector and overriding the add method to add two\n",
        "vectors"
      ],
      "metadata": {
        "id": "tRBz7PhDqaaY"
      }
    },
    {
      "cell_type": "code",
      "source": [
        "class Vector:\n",
        "    def __init__(self, x, y):\n",
        "        self.x = x\n",
        "        self.y = y\n",
        "\n",
        "    # Overloading the + operator using __add__\n",
        "    def __add__(self, other):\n",
        "        if isinstance(other, Vector):\n",
        "            return Vector(self.x + other.x, self.y + other.y)\n",
        "        else:\n",
        "            raise ValueError(\"Operands must be of type 'Vector'\")\n",
        "\n",
        "    # String representation of the vector for easy display\n",
        "    def __str__(self):\n",
        "        return f\"({self.x}, {self.y})\"\n",
        "\n",
        "# Create two Vector objects\n",
        "vector1 = Vector(2, 3)\n",
        "vector2 = Vector(4, 5)\n",
        "\n",
        "# Add the two vectors using the overloaded + operator\n",
        "result = vector1 + vector2\n",
        "\n",
        "# Display the result\n",
        "print(f\"Vector 1: {vector1}\")\n",
        "print(f\"Vector 2: {vector2}\")\n",
        "print(f\"Result of addition: {result}\")\n"
      ],
      "metadata": {
        "colab": {
          "base_uri": "https://localhost:8080/"
        },
        "id": "dag-BOzVqeXh",
        "outputId": "98497b2a-cb44-48b0-f3fb-1e35c2924ccb"
      },
      "execution_count": 10,
      "outputs": [
        {
          "output_type": "stream",
          "name": "stdout",
          "text": [
            "Vector 1: (2, 3)\n",
            "Vector 2: (4, 5)\n",
            "Result of addition: (6, 8)\n"
          ]
        }
      ]
    },
    {
      "cell_type": "markdown",
      "source": [
        "Q. Create a class Person with attributes name and age. Add a method greet() that prints \"Hello, my name is\n",
        "{name} and I am {age} years old"
      ],
      "metadata": {
        "id": "xvCUskFqqs2k"
      }
    },
    {
      "cell_type": "code",
      "source": [
        "class Person:\n",
        "    def __init__(self, name, age):\n",
        "        self.name = name\n",
        "        self.age = age\n",
        "\n",
        "    def greet(self):\n",
        "        print(f\"Hello, my name is {self.name} and I am {self.age} years old.\")\n",
        "\n",
        "# Create an instance of Person\n",
        "person1 = Person(\"Alice\", 30)\n",
        "\n",
        "# Call the greet method\n",
        "person1.greet()\n"
      ],
      "metadata": {
        "colab": {
          "base_uri": "https://localhost:8080/"
        },
        "id": "qID3GXslqxJ8",
        "outputId": "664ecfe2-72bf-476f-d774-206b6c4d9666"
      },
      "execution_count": 11,
      "outputs": [
        {
          "output_type": "stream",
          "name": "stdout",
          "text": [
            "Hello, my name is Alice and I am 30 years old.\n"
          ]
        }
      ]
    },
    {
      "cell_type": "markdown",
      "source": [
        "Q.  Implement a class Student with attributes name and grades. Create a method average_grade() to compute\n",
        "the average of the grades."
      ],
      "metadata": {
        "id": "PMAkr5xuq8tZ"
      }
    },
    {
      "cell_type": "code",
      "source": [
        "class Student:\n",
        "    def __init__(self, name, grades):\n",
        "        self.name = name\n",
        "        self.grades = grades  # grades is expected to be a list of numbers\n",
        "\n",
        "    def average_grade(self):\n",
        "        if len(self.grades) == 0:  # Check if the grades list is empty\n",
        "            return 0  # Return 0 if there are no grades\n",
        "        return sum(self.grades) / len(self.grades)  # Calculate and return the average\n",
        "\n",
        "# Create an instance of Student\n",
        "student1 = Student(\"Alice\", [85, 90, 78, 92, 88])\n",
        "\n",
        "# Call the average_grade method\n",
        "print(f\"{student1.name}'s average grade is: {student1.average_grade():.2f}\")\n"
      ],
      "metadata": {
        "colab": {
          "base_uri": "https://localhost:8080/"
        },
        "id": "6bdv186CrLV5",
        "outputId": "a31bc4e4-1a1d-487f-cd19-04c609c072de"
      },
      "execution_count": 12,
      "outputs": [
        {
          "output_type": "stream",
          "name": "stdout",
          "text": [
            "Alice's average grade is: 86.60\n"
          ]
        }
      ]
    },
    {
      "cell_type": "markdown",
      "source": [
        "Q. Create a class Rectangle with methods set_dimensions() to set the dimensions and area() to calculate the\n",
        "area."
      ],
      "metadata": {
        "id": "rh-EK42erMrZ"
      }
    },
    {
      "cell_type": "code",
      "source": [
        "class Rectangle:\n",
        "    def __init__(self):\n",
        "        self.length = 0\n",
        "        self.width = 0\n",
        "\n",
        "    # Method to set the dimensions of the rectangle\n",
        "    def set_dimensions(self, length, width):\n",
        "        self.length = length\n",
        "        self.width = width\n",
        "\n",
        "    # Method to calculate the area of the rectangle\n",
        "    def area(self):\n",
        "        return self.length * self.width\n",
        "\n",
        "# Create an instance of Rectangle\n",
        "rectangle1 = Rectangle()\n",
        "\n",
        "# Set dimensions for the rectangle\n",
        "rectangle1.set_dimensions(5, 3)\n",
        "\n",
        "# Calculate and print the area\n",
        "print(f\"The area of the rectangle is: {rectangle1.area()} square units.\")\n"
      ],
      "metadata": {
        "colab": {
          "base_uri": "https://localhost:8080/"
        },
        "id": "brSASNixrRZy",
        "outputId": "22b97bcb-b95d-4c4c-cba6-030691be5bb5"
      },
      "execution_count": 13,
      "outputs": [
        {
          "output_type": "stream",
          "name": "stdout",
          "text": [
            "The area of the rectangle is: 15 square units.\n"
          ]
        }
      ]
    },
    {
      "cell_type": "markdown",
      "source": [
        "Q. Create a class Employee with a method calculate_salary() that computes the salary based on hours worked\n",
        "and hourly rate. Create a derived class Manager that adds a bonus to the salary"
      ],
      "metadata": {
        "id": "CH59i6jnrhNi"
      }
    },
    {
      "cell_type": "code",
      "source": [
        "class Employee:\n",
        "    def __init__(self, hours_worked, hourly_rate):\n",
        "        self.hours_worked = hours_worked\n",
        "        self.hourly_rate = hourly_rate\n",
        "\n",
        "    # Method to calculate salary\n",
        "    def calculate_salary(self):\n",
        "        return self.hours_worked * self.hourly_rate\n",
        "\n",
        "class Manager(Employee):\n",
        "    def __init__(self, hours_worked, hourly_rate, bonus):\n",
        "        # Initialize the parent class with hours_worked and hourly_rate\n",
        "        super().__init__(hours_worked, hourly_rate)\n",
        "        self.bonus = bonus  # Manager specific attribute\n",
        "\n",
        "    # Overriding calculate_salary method to include bonus\n",
        "    def calculate_salary(self):\n",
        "        base_salary = super().calculate_salary()  # Calculate base salary using parent method\n",
        "        return base_salary + self.bonus  # Add bonus to base salary\n",
        "\n",
        "# Create an instance of Employee\n",
        "employee1 = Employee(40, 15)  # 40 hours worked at $15 per hour\n",
        "print(f\"Employee's salary: ${employee1.calculate_salary()}\")\n",
        "\n",
        "# Create an instance of Manager\n",
        "manager1 = Manager(40, 20, 500)  # 40 hours worked at $20 per hour + $500 bonus\n",
        "print(f\"Manager's salary: ${manager1.calculate_salary()}\")\n"
      ],
      "metadata": {
        "colab": {
          "base_uri": "https://localhost:8080/"
        },
        "id": "aVH3Y--3rkVY",
        "outputId": "4829bcc6-c93d-43fc-cb7f-1494206d342e"
      },
      "execution_count": 14,
      "outputs": [
        {
          "output_type": "stream",
          "name": "stdout",
          "text": [
            "Employee's salary: $600\n",
            "Manager's salary: $1300\n"
          ]
        }
      ]
    },
    {
      "cell_type": "markdown",
      "source": [
        "Q.  Create a class Product with attributes name, price, and quantity. Implement a method total_price() that\n",
        "calculates the total price of the product.\n",
        "\n",
        "\n"
      ],
      "metadata": {
        "id": "RFRtSkyMrv6u"
      }
    },
    {
      "cell_type": "code",
      "source": [
        "class Product:\n",
        "    def __init__(self, name, price, quantity):\n",
        "        self.name = name\n",
        "        self.price = price\n",
        "        self.quantity = quantity\n",
        "\n",
        "    # Method to calculate the total price of the product\n",
        "    def total_price(self):\n",
        "        return self.price * self.quantity\n",
        "\n",
        "# Create an instance of Product\n",
        "product1 = Product(\"Laptop\", 1200, 3)\n",
        "\n",
        "# Calculate and print the total price of the product\n",
        "print(f\"The total price of {product1.name} is: ${product1.total_price()}\")\n"
      ],
      "metadata": {
        "colab": {
          "base_uri": "https://localhost:8080/"
        },
        "id": "0b6H4NbFrzC0",
        "outputId": "ce173ab1-5334-4d1c-9368-58b9dbb974ef"
      },
      "execution_count": 15,
      "outputs": [
        {
          "output_type": "stream",
          "name": "stdout",
          "text": [
            "The total price of Laptop is: $3600\n"
          ]
        }
      ]
    },
    {
      "cell_type": "markdown",
      "source": [
        "Q. Create a class Animal with an abstract method sound(). Create two derived classes Cow and Sheep that\n",
        "implement the sound() method."
      ],
      "metadata": {
        "id": "MORE0Kw9sA5Y"
      }
    },
    {
      "cell_type": "code",
      "source": [
        "from abc import ABC, abstractmethod\n",
        "\n",
        "# Abstract base class Animal\n",
        "class Animal(ABC):\n",
        "    @abstractmethod\n",
        "    def sound(self):\n",
        "        pass\n",
        "\n",
        "# Derived class Cow\n",
        "class Cow(Animal):\n",
        "    def sound(self):\n",
        "        return \"Moo\"\n",
        "\n",
        "# Derived class Sheep\n",
        "class Sheep(Animal):\n",
        "    def sound(self):\n",
        "        return \"Baa\"\n",
        "\n",
        "# Create instances of Cow and Sheep\n",
        "cow = Cow()\n",
        "sheep = Sheep()\n",
        "\n",
        "# Call the sound method on both objects\n",
        "print(f\"Cow sound: {cow.sound()}\")\n",
        "print(f\"Sheep sound: {sheep.sound()}\")\n"
      ],
      "metadata": {
        "colab": {
          "base_uri": "https://localhost:8080/"
        },
        "id": "pnD_aNjDsDjQ",
        "outputId": "c864f7cf-6a6b-4462-c0ab-1c29f16ea0e7"
      },
      "execution_count": 16,
      "outputs": [
        {
          "output_type": "stream",
          "name": "stdout",
          "text": [
            "Cow sound: Moo\n",
            "Sheep sound: Baa\n"
          ]
        }
      ]
    },
    {
      "cell_type": "markdown",
      "source": [
        "Q. Create a class Book with attributes title, author, and year_published. Add a method get_book_info() that\n",
        "returns a formatted string with the book's details."
      ],
      "metadata": {
        "id": "aDAZvzgFsSdk"
      }
    },
    {
      "cell_type": "code",
      "source": [
        "class Book:\n",
        "    def __init__(self, title, author, year_published):\n",
        "        self.title = title\n",
        "        self.author = author\n",
        "        self.year_published = year_published\n",
        "\n",
        "    # Method to return formatted book information\n",
        "    def get_book_info(self):\n",
        "        return f\"Title: {self.title}\\nAuthor: {self.author}\\nYear Published: {self.year_published}\"\n",
        "\n",
        "# Create an instance of Book\n",
        "book1 = Book(\"The Great Gatsby\", \"F. Scott Fitzgerald\", 1925)\n",
        "\n",
        "# Call the get_book_info method and print the result\n",
        "print(book1.get_book_info())\n"
      ],
      "metadata": {
        "colab": {
          "base_uri": "https://localhost:8080/"
        },
        "id": "fWJ1ypvqsWj6",
        "outputId": "f1c80006-4ffe-447c-ffb6-4a155a0e7ff8"
      },
      "execution_count": 17,
      "outputs": [
        {
          "output_type": "stream",
          "name": "stdout",
          "text": [
            "Title: The Great Gatsby\n",
            "Author: F. Scott Fitzgerald\n",
            "Year Published: 1925\n"
          ]
        }
      ]
    },
    {
      "cell_type": "markdown",
      "source": [
        "Q. Create a class House with attributes address and price. Create a derived class Mansion that adds an\n",
        "attribute number_of_rooms"
      ],
      "metadata": {
        "id": "uOa9mHMNsimr"
      }
    },
    {
      "cell_type": "code",
      "source": [
        "# Base class House\n",
        "class House:\n",
        "    def __init__(self, address, price):\n",
        "        self.address = address\n",
        "        self.price = price\n",
        "\n",
        "    # Method to display house details\n",
        "    def get_house_info(self):\n",
        "        return f\"Address: {self.address}\\nPrice: ${self.price}\"\n",
        "\n",
        "# Derived class Mansion\n",
        "class Mansion(House):\n",
        "    def __init__(self, address, price, number_of_rooms):\n",
        "        # Initialize the base class with address and price\n",
        "        super().__init__(address, price)\n",
        "        self.number_of_rooms = number_of_rooms\n",
        "\n",
        "    # Method to display mansion details\n",
        "    def get_mansion_info(self):\n",
        "        return f\"{self.get_house_info()}\\nNumber of Rooms: {self.number_of_rooms}\"\n",
        "\n",
        "# Create an instance of House\n",
        "house1 = House(\"1234 Elm St.\", 250000)\n",
        "\n",
        "# Create an instance of Mansion\n",
        "mansion1 = Mansion(\"5678 Oak Ave.\", 1000000, 12)\n",
        "\n",
        "# Print house information\n",
        "print(\"House Information:\")\n",
        "print(house1.get_house_info())\n",
        "\n",
        "# Print mansion information\n",
        "print(\"\\nMansion Information:\")\n",
        "print(mansion1.get_mansion_info())\n"
      ],
      "metadata": {
        "colab": {
          "base_uri": "https://localhost:8080/"
        },
        "id": "x4wDU1tasj2H",
        "outputId": "9f05db48-a5e7-4726-eef9-fc1dea5a98df"
      },
      "execution_count": 18,
      "outputs": [
        {
          "output_type": "stream",
          "name": "stdout",
          "text": [
            "House Information:\n",
            "Address: 1234 Elm St.\n",
            "Price: $250000\n",
            "\n",
            "Mansion Information:\n",
            "Address: 5678 Oak Ave.\n",
            "Price: $1000000\n",
            "Number of Rooms: 12\n"
          ]
        }
      ]
    }
  ]
}